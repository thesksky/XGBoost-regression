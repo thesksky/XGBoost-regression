{
 "cells": [
  {
   "cell_type": "code",
   "execution_count": 1,
   "id": "09c9002a",
   "metadata": {},
   "outputs": [
    {
     "name": "stdout",
     "output_type": "stream",
     "text": [
      "1.5.0\n"
     ]
    }
   ],
   "source": [
    "import xgboost; print(xgboost.__version__)\n",
    "from xgboost import XGBRegressor\n",
    "from xgboost import XGBClassifier"
   ]
  },
  {
   "cell_type": "code",
   "execution_count": 9,
   "id": "1d66e330",
   "metadata": {},
   "outputs": [],
   "source": [
    "import numpy as np\n",
    "import pandas as pd\n",
    "import matplotlib\n",
    "from matplotlib import pyplot as plt\n",
    "\n",
    "from sklearn import preprocessing\n",
    "from sklearn.pipeline import Pipeline\n",
    "from sklearn.preprocessing import MinMaxScaler\n",
    "from sklearn.impute import SimpleImputer\n",
    "from sklearn.compose import ColumnTransformer\n",
    "from sklearn.preprocessing import OrdinalEncoder\n",
    "\n",
    "from sklearn.linear_model import LinearRegression\n",
    "\n",
    "from sklearn.model_selection import train_test_split\n",
    "from sklearn.model_selection import cross_val_score\n",
    "from sklearn.model_selection import KFold\n",
    "from sklearn.metrics import mean_absolute_error\n",
    "from sklearn.metrics import mean_squared_error"
   ]
  },
  {
   "cell_type": "code",
   "execution_count": 3,
   "id": "4b9cec1a",
   "metadata": {},
   "outputs": [],
   "source": [
    "df = pd.read_csv('C:\\\\Users\\\\thesk\\\\eclipse-workspace\\\\riga.csv')"
   ]
  },
  {
   "cell_type": "code",
   "execution_count": 4,
   "id": "18dc0451",
   "metadata": {},
   "outputs": [
    {
     "data": {
      "text/html": [
       "<div>\n",
       "<style scoped>\n",
       "    .dataframe tbody tr th:only-of-type {\n",
       "        vertical-align: middle;\n",
       "    }\n",
       "\n",
       "    .dataframe tbody tr th {\n",
       "        vertical-align: top;\n",
       "    }\n",
       "\n",
       "    .dataframe thead th {\n",
       "        text-align: right;\n",
       "    }\n",
       "</style>\n",
       "<table border=\"1\" class=\"dataframe\">\n",
       "  <thead>\n",
       "    <tr style=\"text-align: right;\">\n",
       "      <th></th>\n",
       "      <th>op_type</th>\n",
       "      <th>district</th>\n",
       "      <th>street</th>\n",
       "      <th>rooms</th>\n",
       "      <th>area</th>\n",
       "      <th>floor</th>\n",
       "      <th>total_floors</th>\n",
       "      <th>house_seria</th>\n",
       "      <th>house_type</th>\n",
       "      <th>condition</th>\n",
       "      <th>lat</th>\n",
       "      <th>lon</th>\n",
       "      <th>price</th>\n",
       "    </tr>\n",
       "  </thead>\n",
       "  <tbody>\n",
       "    <tr>\n",
       "      <th>0</th>\n",
       "      <td>For rent</td>\n",
       "      <td>Purvciems</td>\n",
       "      <td>Dzelzavas 93</td>\n",
       "      <td>1</td>\n",
       "      <td>27.0</td>\n",
       "      <td>3</td>\n",
       "      <td>5</td>\n",
       "      <td>LT proj.</td>\n",
       "      <td>Brick-Panel</td>\n",
       "      <td>All amenities</td>\n",
       "      <td>56.955484</td>\n",
       "      <td>24.202139</td>\n",
       "      <td>250</td>\n",
       "    </tr>\n",
       "    <tr>\n",
       "      <th>1</th>\n",
       "      <td>For rent</td>\n",
       "      <td>Ziepniekkalns</td>\n",
       "      <td>Ozolciema 32</td>\n",
       "      <td>2</td>\n",
       "      <td>50.0</td>\n",
       "      <td>7</td>\n",
       "      <td>9</td>\n",
       "      <td>602</td>\n",
       "      <td>Panel</td>\n",
       "      <td>All amenities</td>\n",
       "      <td>56.899798</td>\n",
       "      <td>24.098350</td>\n",
       "      <td>300</td>\n",
       "    </tr>\n",
       "    <tr>\n",
       "      <th>2</th>\n",
       "      <td>For sale</td>\n",
       "      <td>centrs</td>\n",
       "      <td>Ieroču 6</td>\n",
       "      <td>2</td>\n",
       "      <td>33.0</td>\n",
       "      <td>1</td>\n",
       "      <td>2</td>\n",
       "      <td>P. kara</td>\n",
       "      <td>Wood</td>\n",
       "      <td>Partial amenities</td>\n",
       "      <td>56.975092</td>\n",
       "      <td>24.139884</td>\n",
       "      <td>13500</td>\n",
       "    </tr>\n",
       "  </tbody>\n",
       "</table>\n",
       "</div>"
      ],
      "text/plain": [
       "    op_type       district        street  rooms  area  floor  total_floors  \\\n",
       "0  For rent      Purvciems  Dzelzavas 93      1  27.0      3             5   \n",
       "1  For rent  Ziepniekkalns  Ozolciema 32      2  50.0      7             9   \n",
       "2  For sale         centrs      Ieroču 6      2  33.0      1             2   \n",
       "\n",
       "  house_seria   house_type          condition        lat        lon  price  \n",
       "0    LT proj.  Brick-Panel      All amenities  56.955484  24.202139    250  \n",
       "1         602        Panel      All amenities  56.899798  24.098350    300  \n",
       "2     P. kara         Wood  Partial amenities  56.975092  24.139884  13500  "
      ]
     },
     "execution_count": 4,
     "metadata": {},
     "output_type": "execute_result"
    }
   ],
   "source": [
    "df.head(3)"
   ]
  },
  {
   "cell_type": "code",
   "execution_count": 5,
   "id": "b5ccee0c",
   "metadata": {},
   "outputs": [
    {
     "name": "stdout",
     "output_type": "stream",
     "text": [
      "['rooms', 'area', 'floor', 'total_floors', 'lat', 'lon', 'price']\n"
     ]
    }
   ],
   "source": [
    "# List of numerical features: \n",
    "df1 = df.select_dtypes(include=[np.number])\n",
    "num_features = list(df1)\n",
    "print(num_features)"
   ]
  },
  {
   "cell_type": "code",
   "execution_count": 6,
   "id": "5b57e9fc",
   "metadata": {},
   "outputs": [
    {
     "name": "stdout",
     "output_type": "stream",
     "text": [
      "['rooms', 'area', 'floor', 'total_floors', 'lat', 'lon']\n"
     ]
    }
   ],
   "source": [
    "# remove the target variable\n",
    "num_features.pop()\n",
    "print(num_features)"
   ]
  },
  {
   "cell_type": "code",
   "execution_count": 7,
   "id": "fd266e77",
   "metadata": {},
   "outputs": [
    {
     "name": "stdout",
     "output_type": "stream",
     "text": [
      "['op_type', 'district', 'street', 'house_seria', 'house_type', 'condition']\n"
     ]
    }
   ],
   "source": [
    "# List of categorical features: \n",
    "df2 = df.select_dtypes(include=['object'])\n",
    "cat_features = list(df2)\n",
    "print(cat_features)"
   ]
  },
  {
   "cell_type": "code",
   "execution_count": 10,
   "id": "9a7b1a08",
   "metadata": {},
   "outputs": [],
   "source": [
    "# ColumnTransformer cannot do multiple transforms on a single column, always takes the original df as input\n",
    "# Use Pipeline for multiple steps on a single column as Pipeline takes previous step's output as next step's input\n",
    "# ColumnTransformer has a three-element tuple: the name of the transformer, the transform to apply, and the column indices\n",
    "\n",
    "num_pipe = Pipeline(steps=[('i',SimpleImputer(missing_values=np.nan, strategy=\"median\")),\n",
    "                            ('s', MinMaxScaler())])\n",
    "\n",
    "cat_pipe = Pipeline(steps=[('i',SimpleImputer(missing_values=np.nan, strategy=\"most_frequent\")),\n",
    "                            ('oe',OrdinalEncoder()),\n",
    "                            ('sc', MinMaxScaler())])\n",
    "\n",
    "ct = ColumnTransformer(transformers=[('num',num_pipe,num_features),\n",
    "                                    ('cat',cat_pipe,cat_features)],remainder=\"passthrough\")  #the default value is ‘drop’ which drops the other columns and returns only the transformed ones, but we want the entire df, it is not neccesary to transform the target variable\n",
    "\n",
    "df = ct.fit_transform(df)"
   ]
  },
  {
   "cell_type": "code",
   "execution_count": 12,
   "id": "6f73746a",
   "metadata": {},
   "outputs": [],
   "source": [
    "df = pd.DataFrame(df, columns = ['op_type', 'district', 'street', 'rooms', 'area', 'floor', 'total_floors', 'house_seria', 'house_type', 'condition', 'lat', 'lon','price'])"
   ]
  },
  {
   "cell_type": "code",
   "execution_count": 13,
   "id": "671d7681",
   "metadata": {},
   "outputs": [
    {
     "data": {
      "text/html": [
       "<div>\n",
       "<style scoped>\n",
       "    .dataframe tbody tr th:only-of-type {\n",
       "        vertical-align: middle;\n",
       "    }\n",
       "\n",
       "    .dataframe tbody tr th {\n",
       "        vertical-align: top;\n",
       "    }\n",
       "\n",
       "    .dataframe thead th {\n",
       "        text-align: right;\n",
       "    }\n",
       "</style>\n",
       "<table border=\"1\" class=\"dataframe\">\n",
       "  <thead>\n",
       "    <tr style=\"text-align: right;\">\n",
       "      <th></th>\n",
       "      <th>op_type</th>\n",
       "      <th>district</th>\n",
       "      <th>street</th>\n",
       "      <th>rooms</th>\n",
       "      <th>area</th>\n",
       "      <th>floor</th>\n",
       "      <th>total_floors</th>\n",
       "      <th>house_seria</th>\n",
       "      <th>house_type</th>\n",
       "      <th>condition</th>\n",
       "      <th>lat</th>\n",
       "      <th>lon</th>\n",
       "      <th>price</th>\n",
       "    </tr>\n",
       "  </thead>\n",
       "  <tbody>\n",
       "    <tr>\n",
       "      <th>0</th>\n",
       "      <td>0.000000</td>\n",
       "      <td>0.045346</td>\n",
       "      <td>0.086957</td>\n",
       "      <td>0.137931</td>\n",
       "      <td>0.333753</td>\n",
       "      <td>0.625656</td>\n",
       "      <td>0.0</td>\n",
       "      <td>0.553191</td>\n",
       "      <td>0.202008</td>\n",
       "      <td>0.500000</td>\n",
       "      <td>0.2</td>\n",
       "      <td>0.0</td>\n",
       "      <td>250.0</td>\n",
       "    </tr>\n",
       "    <tr>\n",
       "      <th>1</th>\n",
       "      <td>0.066667</td>\n",
       "      <td>0.100239</td>\n",
       "      <td>0.260870</td>\n",
       "      <td>0.275862</td>\n",
       "      <td>0.139539</td>\n",
       "      <td>0.345587</td>\n",
       "      <td>0.0</td>\n",
       "      <td>0.829787</td>\n",
       "      <td>0.608835</td>\n",
       "      <td>0.285714</td>\n",
       "      <td>0.6</td>\n",
       "      <td>0.0</td>\n",
       "      <td>300.0</td>\n",
       "    </tr>\n",
       "    <tr>\n",
       "      <th>2</th>\n",
       "      <td>0.066667</td>\n",
       "      <td>0.059666</td>\n",
       "      <td>0.000000</td>\n",
       "      <td>0.034483</td>\n",
       "      <td>0.402139</td>\n",
       "      <td>0.457664</td>\n",
       "      <td>1.0</td>\n",
       "      <td>0.872340</td>\n",
       "      <td>0.299197</td>\n",
       "      <td>0.642857</td>\n",
       "      <td>1.0</td>\n",
       "      <td>0.5</td>\n",
       "      <td>13500.0</td>\n",
       "    </tr>\n",
       "  </tbody>\n",
       "</table>\n",
       "</div>"
      ],
      "text/plain": [
       "    op_type  district    street     rooms      area     floor  total_floors  \\\n",
       "0  0.000000  0.045346  0.086957  0.137931  0.333753  0.625656           0.0   \n",
       "1  0.066667  0.100239  0.260870  0.275862  0.139539  0.345587           0.0   \n",
       "2  0.066667  0.059666  0.000000  0.034483  0.402139  0.457664           1.0   \n",
       "\n",
       "   house_seria  house_type  condition  lat  lon    price  \n",
       "0     0.553191    0.202008   0.500000  0.2  0.0    250.0  \n",
       "1     0.829787    0.608835   0.285714  0.6  0.0    300.0  \n",
       "2     0.872340    0.299197   0.642857  1.0  0.5  13500.0  "
      ]
     },
     "execution_count": 13,
     "metadata": {},
     "output_type": "execute_result"
    }
   ],
   "source": [
    "df.head(3)"
   ]
  },
  {
   "cell_type": "code",
   "execution_count": 14,
   "id": "5c68ef08",
   "metadata": {},
   "outputs": [],
   "source": [
    "X = df.iloc[:, :-1]\n",
    "y = df.iloc[:, -1]"
   ]
  },
  {
   "cell_type": "code",
   "execution_count": 15,
   "id": "f2556ee1",
   "metadata": {},
   "outputs": [],
   "source": [
    "X_train, X_test, y_train, y_test = train_test_split(X, y, test_size = 0.3, random_state = 0)"
   ]
  },
  {
   "cell_type": "code",
   "execution_count": 16,
   "id": "d3aee488",
   "metadata": {},
   "outputs": [],
   "source": [
    "xgbr = XGBRegressor()"
   ]
  },
  {
   "cell_type": "code",
   "execution_count": 17,
   "id": "fde2a93e",
   "metadata": {},
   "outputs": [
    {
     "data": {
      "text/plain": [
       "XGBRegressor(base_score=0.5, booster='gbtree', colsample_bylevel=1,\n",
       "             colsample_bynode=1, colsample_bytree=1, enable_categorical=False,\n",
       "             gamma=0, gpu_id=-1, importance_type=None,\n",
       "             interaction_constraints='', learning_rate=0.300000012,\n",
       "             max_delta_step=0, max_depth=6, min_child_weight=1, missing=nan,\n",
       "             monotone_constraints='()', n_estimators=100, n_jobs=8,\n",
       "             num_parallel_tree=1, predictor='auto', random_state=0, reg_alpha=0,\n",
       "             reg_lambda=1, scale_pos_weight=1, subsample=1, tree_method='exact',\n",
       "             validate_parameters=1, verbosity=None)"
      ]
     },
     "execution_count": 17,
     "metadata": {},
     "output_type": "execute_result"
    }
   ],
   "source": [
    "xgbr.fit(X_train, y_train)"
   ]
  },
  {
   "cell_type": "code",
   "execution_count": 18,
   "id": "7650ecac",
   "metadata": {},
   "outputs": [
    {
     "name": "stdout",
     "output_type": "stream",
     "text": [
      "Training score:  0.9954319468114959\n"
     ]
    }
   ],
   "source": [
    "score = xgbr.score(X_train, y_train)  \n",
    "print(\"Training score: \", score)"
   ]
  },
  {
   "cell_type": "code",
   "execution_count": 19,
   "id": "4d14e9b4",
   "metadata": {},
   "outputs": [
    {
     "name": "stdout",
     "output_type": "stream",
     "text": [
      "Mean cross-validation score: 0.86\n"
     ]
    }
   ],
   "source": [
    "scores = cross_val_score(xgbr, X_train, y_train, cv=10)\n",
    "print(\"Mean cross-validation score: %.2f\" % scores.mean())"
   ]
  },
  {
   "cell_type": "code",
   "execution_count": 20,
   "id": "1cd68833",
   "metadata": {},
   "outputs": [
    {
     "name": "stdout",
     "output_type": "stream",
     "text": [
      "K-fold CV average score: 0.88\n"
     ]
    }
   ],
   "source": [
    "kfold = KFold(n_splits=10, shuffle=True)\n",
    "kf_cv_scores = cross_val_score(xgbr, X_train, y_train, cv=kfold )\n",
    "print(\"K-fold CV average score: %.2f\" % kf_cv_scores.mean())"
   ]
  },
  {
   "cell_type": "code",
   "execution_count": 21,
   "id": "fb2dfb3b",
   "metadata": {},
   "outputs": [],
   "source": [
    "xgbr_predictions = xgbr.predict(X_test)"
   ]
  },
  {
   "cell_type": "code",
   "execution_count": 22,
   "id": "f3f94519",
   "metadata": {},
   "outputs": [
    {
     "data": {
      "text/plain": [
       "array([75323.09 , 41375.434, 83757.96 ], dtype=float32)"
      ]
     },
     "execution_count": 22,
     "metadata": {},
     "output_type": "execute_result"
    }
   ],
   "source": [
    "xgbr_predictions[0:3]"
   ]
  },
  {
   "cell_type": "code",
   "execution_count": 23,
   "id": "1594edad",
   "metadata": {},
   "outputs": [
    {
     "data": {
      "text/plain": [
       "11958.345892586769"
      ]
     },
     "execution_count": 23,
     "metadata": {},
     "output_type": "execute_result"
    }
   ],
   "source": [
    "xgbr_mae = mean_absolute_error(xgbr_predictions, y_test)\n",
    "xgbr_mae"
   ]
  },
  {
   "cell_type": "code",
   "execution_count": 24,
   "id": "60202978",
   "metadata": {},
   "outputs": [
    {
     "data": {
      "text/plain": [
       "24929.407636354033"
      ]
     },
     "execution_count": 24,
     "metadata": {},
     "output_type": "execute_result"
    }
   ],
   "source": [
    "xgbr_rmse = np.sqrt(mean_squared_error(xgbr_predictions, y_test))\n",
    "xgbr_rmse"
   ]
  },
  {
   "cell_type": "code",
   "execution_count": 25,
   "id": "62218f1f",
   "metadata": {},
   "outputs": [
    {
     "data": {
      "image/png": "[encoded data removed]",
      "text/plain": [
       "<Figure size 1080x216 with 1 Axes>"
      ]
     },
     "metadata": {
      "needs_background": "light"
     },
     "output_type": "display_data"
    }
   ],
   "source": [
    "from matplotlib.pyplot import figure\n",
    "fig = matplotlib.pyplot.gcf()\n",
    "fig.set_size_inches(15, 3, forward=True)\n",
    "\n",
    "x_ax = range(len(y_test))\n",
    "plt.plot(x_ax, y_test, label=\"original\")\n",
    "plt.plot(x_ax, xgbr_predictions, label=\"predicted\")\n",
    "plt.title(\"Riga test and predicted real estate values\")\n",
    "plt.legend()\n",
    "plt.show()"
   ]
  }
 ],
 "metadata": {
  "kernelspec": {
   "display_name": "Python 3",
   "language": "python",
   "name": "python3"
  },
  "language_info": {
   "codemirror_mode": {
    "name": "ipython",
    "version": 3
   },
   "file_extension": ".py",
   "mimetype": "text/x-python",
   "name": "python",
   "nbconvert_exporter": "python",
   "pygments_lexer": "ipython3",
   "version": "3.8.8"
  }
 },
 "nbformat": 4,
 "nbformat_minor": 5
}
